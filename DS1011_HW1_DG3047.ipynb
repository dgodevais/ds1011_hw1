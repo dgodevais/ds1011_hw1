{
 "cells": [
  {
   "cell_type": "markdown",
   "metadata": {},
   "source": [
    "# DS-1011 Assignment HW1\n",
    "## Bag of N-Gram Document Classification"
   ]
  },
  {
   "cell_type": "markdown",
   "metadata": {},
   "source": [
    "### Part 1 Tokenizing the IMDB data"
   ]
  },
  {
   "cell_type": "code",
   "execution_count": 9,
   "metadata": {},
   "outputs": [
    {
     "name": "stdout",
     "output_type": "stream",
     "text": [
      "There are 12500 negative reviews.\n",
      "There are 12500 positive reviews.\n",
      "Loaded 25000 examples\n",
      "\n",
      "(0, \"Working with one of the best Shakespeare sources, this film manages to be creditable to it's source, whilst still appealing to a wider audience.<br /><br />Branagh steals the film from under Fishburne's nose, and there's a talented cast on good form.\")\n",
      "\n",
      "(1, \"Enchanted April is a tone poem, an impressionist painting, a masterpiece of conveying a message with few words. It has been one of my 10 favorite films since it came out. I continue to wait, albeit less patiently, for the film to come out in DVD format. Apparently, I am not alone.<br /><br />If parent company Amazon's listings are correct, there are many people who want this title in DVD format. Many people want to go to Italy with this cast and this script. Many people want to keep a permanent copy of this film in their libraries. The cast is spectacular, the cinematography and direction impeccable. The film is a definite keeper. Many have already asked. Please add our names to the list.\")\n"
     ]
    }
   ],
   "source": [
    "from os import listdir\n",
    "from os.path import isfile, join\n",
    "\n",
    "# Reading all of the negative and positive reviews into a tuple list\n",
    "neg_path = 'aclImdb/train/neg'\n",
    "pos_path = 'aclImdb/train/pos'\n",
    "negative_files = [f for f in listdir(neg_path) if isfile(join(neg_path, f))]\n",
    "postive_files = [f for f in listdir(pos_path) if isfile(join(pos_path, f))]\n",
    "\n",
    "data = []\n",
    "for neg_file in negative_files:\n",
    "    with open(neg_path + '/' + neg_file, 'r') as f:\n",
    "        review = f.read()\n",
    "        data.append( (0,review) )\n",
    "num_neg_reviews = len(data)\n",
    "print('There are {} negative reviews.'.format(num_neg_reviews))\n",
    "for pos_file in postive_files:\n",
    "    with open(pos_path + '/' + pos_file, 'r') as f:\n",
    "        review = f.read()\n",
    "        data.append( (1,review) )\n",
    "print('There are {} positive reviews.'.format(len(data) - num_neg_reviews))\n",
    "print('Loaded {} examples'.format(str(len(data))))\n",
    "print()\n",
    "print(data[0])\n",
    "print()\n",
    "print(data[len(data)-1])        "
   ]
  },
  {
   "cell_type": "code",
   "execution_count": 10,
   "metadata": {},
   "outputs": [
    {
     "name": "stdout",
     "output_type": "stream",
     "text": [
      "[0, 0, 0, 0, 0, 0, 0, 0, 0, 0]\n",
      "[0, 0, 1, 1, 1, 0, 0, 1, 1, 1]\n"
     ]
    }
   ],
   "source": [
    "import random\n",
    "# Avoid any ordering bias by randomly shuffling the list\n",
    "print([target[0] for target in data[0:10]])\n",
    "random.Random(4).shuffle(data)\n",
    "print([target[0] for target in data[0:10]])"
   ]
  },
  {
   "cell_type": "code",
   "execution_count": 11,
   "metadata": {},
   "outputs": [
    {
     "name": "stdout",
     "output_type": "stream",
     "text": [
      "20000 training samples\n",
      "[0, 0, 1, 1, 1, 0, 0, 1, 1, 1]\n",
      "5000 validation samples\n",
      "[0, 0, 0, 1, 1, 1, 1, 0, 0, 0]\n",
      "5000\n"
     ]
    }
   ],
   "source": [
    "# Create a validation set from the training data\n",
    "train_split = 20000\n",
    "\n",
    "train_data = data[:train_split]\n",
    "train_x = [data[1] for data in train_data]\n",
    "train_y = [data[0] for data in train_data]\n",
    "\n",
    "val_data = data[train_split:]\n",
    "val_x = [data[1] for data in val_data]\n",
    "val_y = [data[0] for data in val_data]\n",
    "\n",
    "print('{} training samples'.format(len(train_data)))\n",
    "print([target for target in train_y[0:10]])\n",
    "print('{} validation samples'.format(len(val_data)))\n",
    "print([target for target in val_y[0:10]])\n",
    "print(len(val_y))"
   ]
  },
  {
   "cell_type": "code",
   "execution_count": 12,
   "metadata": {},
   "outputs": [
    {
     "name": "stdout",
     "output_type": "stream",
     "text": [
      "There are 12500 negative test reviews.\n",
      "There are 12500 positive test reviews.\n",
      "Loaded 25000 examples\n",
      "\n",
      "(0, \"Alan Rickman & Emma Thompson give good performances with southern/New Orleans accents in this detective flick. It's worth seeing for their scenes- and Rickman's scene with Hal Holbrook. These three actors mannage to entertain us no matter what the movie, it seems. The plot for the movie shows potential, but one gets the impression in watching the film that it was not pulled off as well as it could have been. The fact that it is cluttered by a rather uninteresting subplot and mostly uninteresting kidnappers really muddles things. The movie is worth a view- if for nothing more than entertaining performances by Rickman, Thompson, and Holbrook.\")\n",
      "\n",
      "(1, 'I saw this movie on TV and loved it! I am a real disaster film fan, and this one was great. The cast was made of some really interesting people. Connie Selleca is always great. And William Devane is in a league of his own. He can play both comedy and thriller in the same movie like few others can. The story line is great too. The thought of being able to follow a time line of what will happen, and to use this time line to prevent a global disaster is an interesting idea. And this movie brings it out in such a way that is almost totally believable.')\n"
     ]
    }
   ],
   "source": [
    "# Assess performance on the test set\n",
    "# Reading all of the negative and positive reviews into a tuple list\n",
    "neg_path = 'aclImdb/test/neg'\n",
    "pos_path = 'aclImdb/test/pos'\n",
    "negative_files = [f for f in listdir(neg_path) if isfile(join(neg_path, f))]\n",
    "postive_files = [f for f in listdir(pos_path) if isfile(join(pos_path, f))]\n",
    "\n",
    "test_data = []\n",
    "for neg_file in negative_files:\n",
    "    with open(neg_path + '/' + neg_file, 'r') as f:\n",
    "        review = f.read()\n",
    "        test_data.append( (0,review) )\n",
    "num_neg_reviews = len(test_data)\n",
    "print('There are {} negative test reviews.'.format(num_neg_reviews))\n",
    "for pos_file in postive_files:\n",
    "    with open(pos_path + '/' + pos_file, 'r') as f:\n",
    "        review = f.read()\n",
    "        test_data.append( (1,review) )\n",
    "print('There are {} positive test reviews.'.format(len(test_data) - num_neg_reviews))\n",
    "print('Loaded {} examples'.format(str(len(test_data))))\n",
    "print()\n",
    "print(test_data[0])\n",
    "print()\n",
    "print(test_data[len(test_data)-1])   "
   ]
  },
  {
   "cell_type": "code",
   "execution_count": 13,
   "metadata": {},
   "outputs": [
    {
     "name": "stdout",
     "output_type": "stream",
     "text": [
      "25000 test samples\n",
      "[0, 0, 0, 0, 0, 0, 0, 0, 0, 0]\n"
     ]
    }
   ],
   "source": [
    "test_x = [data_t[1] for data_t in test_data]\n",
    "test_y = [data_t[0] for data_t in test_data]\n",
    "\n",
    "print('{} test samples'.format(len(test_data)))\n",
    "print([target for target in test_y[0:10]])"
   ]
  },
  {
   "cell_type": "code",
   "execution_count": 39,
   "metadata": {
    "collapsed": true
   },
   "outputs": [],
   "source": [
    "# Tokenize the reviews\n",
    "import nltk\n",
    "import os\n",
    "import pickle as pkl\n",
    "import spacy\n",
    "import string\n",
    "import time\n",
    "\n",
    "from collections import Counter\n",
    "from tqdm import tqdm_notebook\n",
    "\n",
    "class NGramBuilder(object):\n",
    "    \"\"\"\n",
    "    Class which enables hyperparameter searching over the word tokenization process\n",
    "    \"\"\"\n",
    "    # save index 0 for unk and 1 for pad\n",
    "    PAD_IDX = 0\n",
    "    UNK_IDX = 1\n",
    "    def __init__(self, max_vocab_size, n_gram_size, all_permutations=True):\n",
    "        \"\"\"\n",
    "        all_permutations: if True then that means if you picked an n-gram size of 3, then you would have\n",
    "        all the 1-gram and 2-gram combos included as well.\n",
    "        \"\"\"\n",
    "        self.tokenizer = spacy.load('en_core_web_sm')\n",
    "        self.punctuations = string.punctuation\n",
    "        self.max_vocab_size = max_vocab_size\n",
    "        self.n_gram_size = n_gram_size\n",
    "        self.all_permutations = all_permutations\n",
    "        self.vocabulary_tokens = []\n",
    "        self.id2token = None\n",
    "        self.token2id = None\n",
    "    \n",
    "    def _lower_case_remove_punc(self, parsed):\n",
    "        return [token.text.lower() for token in parsed if (token.text not in self.punctuations)]\n",
    "\n",
    "    def tokenize_dataset(self, dataset, training=False):\n",
    "        token_dataset = []\n",
    "        start_time = time.time()\n",
    "        for sample in tqdm_notebook(self.tokenizer.pipe(dataset, disable=['parser', 'tagger', 'ner'], batch_size=512, n_threads=4)):\n",
    "            tokens = self._lower_case_remove_punc(sample)\n",
    "            all_tokens = []\n",
    "            n_grams = nltk.ngrams(tokens, self.n_gram_size)\n",
    "            all_tokens = [' '.join(grams) for grams in n_grams]\n",
    "            token_dataset.append(all_tokens)\n",
    "            if training:\n",
    "                self.vocabulary_tokens += all_tokens\n",
    "        print(\"--- {} seconds ---\".format(time.time() - start_time))\n",
    "        return token_dataset\n",
    "    \n",
    "    def build_vocab(self):\n",
    "        # Returns:\n",
    "        # id2token: list of tokens, where id2token[i] returns token that corresponds to token i\n",
    "        # token2id: dictionary where keys represent tokens and corresponding values represent indices\n",
    "        token_counter = Counter(self.vocabulary_tokens)\n",
    "        vocab, count = zip(*token_counter.most_common(self.max_vocab_size))\n",
    "        self.id2token = list(vocab)\n",
    "        self.token2id = dict(zip(vocab, range(2,2+len(vocab)))) \n",
    "        self.id2token = ['<pad>', '<unk>'] + self.id2token\n",
    "        self.token2id['<pad>'] = self.PAD_IDX \n",
    "        self.token2id['<unk>'] = self.UNK_IDX\n",
    "        self.vocabulary_tokens = None\n",
    "    \n",
    "    def token2index_dataset(self, tokens_data):\n",
    "        indices_data = []\n",
    "        for tokens in tokens_data:\n",
    "            index_list = [self.token2id[token] if token in self.token2id else self.UNK_IDX for token in tokens]\n",
    "            indices_data.append(index_list)\n",
    "        return indices_data\n",
    "    \n",
    "    def get_indexed_dataset_from_training_text_vector(self, text_vector, overwrite=True):\n",
    "        data_tokens = None\n",
    "        training_pickle_path = \"train_data_tokens_{}_{}.p\".format(self.n_gram_size, self.max_vocab_size)\n",
    "        id2token_path = \"id2token_{}_{}.p\".format(self.n_gram_size, self.max_vocab_size)\n",
    "        token2id_path = \"token2id_{}_{}.p\".format(self.n_gram_size, self.max_vocab_size)\n",
    "\n",
    "        train_data_tokens = None\n",
    "        if os.path.isfile(training_pickle_path) and os.path.isfile(id2token_path) and not overwrite:\n",
    "            print(\"Loading existing training token pickle file and vocabulary.\")\n",
    "            train_data_tokens = pkl.load(open(training_pickle_path, \"rb\"))\n",
    "            self.id2token = pkl.load(open(id2token_path, \"rb\"))\n",
    "            self.token2id = pkl.load(open(token2id_path, \"rb\"))\n",
    "        elif not overwrite:\n",
    "            raise ValueError('File not found for training')\n",
    "        else:\n",
    "            train_data_tokens = self.tokenize_dataset(text_vector, training=True)\n",
    "#             pkl.dump(train_data_tokens, open(training_pickle_path, \"wb\"))\n",
    "            self.build_vocab()\n",
    "#             pkl.dump(self.id2token, open(id2token_path, \"wb\"))\n",
    "#             pkl.dump(self.token2id, open(token2id_path, \"wb\"))\n",
    "\n",
    "        train_data_indices = self.token2index_dataset(train_data_tokens)\n",
    "        return train_data_indices\n",
    "        \n",
    "    \n",
    "    def get_indexed_dataset_from_val_and_test_vector(self, val_vector, test_vector, overwrite=True):\n",
    "        if not self.id2token:\n",
    "            raise ValueError('Must load training set prior to validationa and test sets')\n",
    "        data_tokens = None\n",
    "        \n",
    "        val_data_tokens = None\n",
    "        test_data_tokens = None\n",
    "        val_pickle_path = \"val_data_tokens_{}_{}.p\".format(self.n_gram_size, self.max_vocab_size)\n",
    "        test_pickle_path = \"test_data_tokens_{}_{}.p\".format(self.n_gram_size, self.max_vocab_size)\n",
    "        \n",
    "        if os.path.isfile(val_pickle_path) and os.path.isfile(test_pickle_path) and not overwrite:\n",
    "            print(\"Loading existing training token pickle file and vocabulary.\")\n",
    "            val_data_tokens = pkl.load(open(val_pickle_path, \"rb\"))\n",
    "            test_data_tokens = pkl.load(open(test_pickle_path, \"rb\"))\n",
    "        elif not overwrite:\n",
    "            raise ValueError('File not found for validation or testing')\n",
    "        else:\n",
    "            val_data_tokens = self.tokenize_dataset(val_vector)\n",
    "#             pkl.dump(val_data_tokens, open(val_pickle_path, \"wb\"))\n",
    "            test_data_tokens = self.tokenize_dataset(test_vector)\n",
    "#             pkl.dump(test_data_tokens, open(test_pickle_path, \"wb\"))\n",
    "            \n",
    "        val_data_indices = self.token2index_dataset(val_data_tokens)\n",
    "        test_data_indices = self.token2index_dataset(test_data_tokens)\n",
    "        return val_data_indices, test_data_indices\n"
   ]
  },
  {
   "cell_type": "code",
   "execution_count": 15,
   "metadata": {},
   "outputs": [
    {
     "name": "stdout",
     "output_type": "stream",
     "text": [
      "Building bag of words for 10000 vocab size and 1 gram(s)\n",
      "Building bag of words for 20000 vocab size and 1 gram(s)\n",
      "Building bag of words for 40000 vocab size and 1 gram(s)\n",
      "Building bag of words for 80000 vocab size and 1 gram(s)\n"
     ]
    },
    {
     "name": "stderr",
     "output_type": "stream",
     "text": [
      "Widget Javascript not detected.  It may not be installed or enabled properly.\n",
      "Widget Javascript not detected.  It may not be installed or enabled properly.\n",
      "Widget Javascript not detected.  It may not be installed or enabled properly.\n",
      "Widget Javascript not detected.  It may not be installed or enabled properly.\n"
     ]
    },
    {
     "data": {
      "application/vnd.jupyter.widget-view+json": {
       "model_id": "33209436e621411290abdc3324d70ea7"
      }
     },
     "metadata": {},
     "output_type": "display_data"
    },
    {
     "data": {
      "application/vnd.jupyter.widget-view+json": {
       "model_id": "f660d5b8d3df488896d9fa6d71121d87"
      }
     },
     "metadata": {},
     "output_type": "display_data"
    },
    {
     "data": {
      "application/vnd.jupyter.widget-view+json": {
       "model_id": "8050d408efff4dcdaf71a48d8aad95c7"
      }
     },
     "metadata": {},
     "output_type": "display_data"
    },
    {
     "data": {
      "application/vnd.jupyter.widget-view+json": {
       "model_id": "0ab31b5d3fd9429cabf01c57ae4657fb"
      }
     },
     "metadata": {},
     "output_type": "display_data"
    },
    {
     "name": "stdout",
     "output_type": "stream",
     "text": [
      "\n",
      "--- 207.7871069908142 seconds ---\n",
      "\n",
      "--- 208.19585919380188 seconds ---\n",
      "\n",
      "--- 208.42174696922302 seconds ---\n",
      "\n",
      "--- 208.51249718666077 seconds ---\n"
     ]
    },
    {
     "name": "stderr",
     "output_type": "stream",
     "text": [
      "Widget Javascript not detected.  It may not be installed or enabled properly.\n"
     ]
    },
    {
     "data": {
      "application/vnd.jupyter.widget-view+json": {
       "model_id": "889fcf8bd11c4ba1bcbecace0eaa32a5"
      }
     },
     "metadata": {},
     "output_type": "display_data"
    },
    {
     "name": "stderr",
     "output_type": "stream",
     "text": [
      "Widget Javascript not detected.  It may not be installed or enabled properly.\n"
     ]
    },
    {
     "data": {
      "application/vnd.jupyter.widget-view+json": {
       "model_id": "efffb669c5e9419480e0f85219f3917f"
      }
     },
     "metadata": {},
     "output_type": "display_data"
    },
    {
     "name": "stderr",
     "output_type": "stream",
     "text": [
      "Widget Javascript not detected.  It may not be installed or enabled properly.\n"
     ]
    },
    {
     "data": {
      "application/vnd.jupyter.widget-view+json": {
       "model_id": "df1e26c56fbe4ca387b8c8fba64b3cd2"
      }
     },
     "metadata": {},
     "output_type": "display_data"
    },
    {
     "name": "stderr",
     "output_type": "stream",
     "text": [
      "Widget Javascript not detected.  It may not be installed or enabled properly.\n"
     ]
    },
    {
     "data": {
      "application/vnd.jupyter.widget-view+json": {
       "model_id": "a52bd46809534bc1a7f81c4152cea462"
      }
     },
     "metadata": {},
     "output_type": "display_data"
    },
    {
     "name": "stdout",
     "output_type": "stream",
     "text": [
      "\n",
      "--- 57.67985510826111 seconds ---\n",
      "\n",
      "--- 57.74720525741577 seconds ---\n"
     ]
    },
    {
     "name": "stderr",
     "output_type": "stream",
     "text": [
      "Widget Javascript not detected.  It may not be installed or enabled properly.\n"
     ]
    },
    {
     "data": {
      "application/vnd.jupyter.widget-view+json": {
       "model_id": "f323544fc9c9434088827ff7365503b5"
      }
     },
     "metadata": {},
     "output_type": "display_data"
    },
    {
     "name": "stderr",
     "output_type": "stream",
     "text": [
      "Widget Javascript not detected.  It may not be installed or enabled properly.\n"
     ]
    },
    {
     "data": {
      "application/vnd.jupyter.widget-view+json": {
       "model_id": "8e9a67f687534adfa2e20921af2c1878"
      }
     },
     "metadata": {},
     "output_type": "display_data"
    },
    {
     "name": "stdout",
     "output_type": "stream",
     "text": [
      "\n",
      "--- 57.840603828430176 seconds ---\n"
     ]
    },
    {
     "name": "stderr",
     "output_type": "stream",
     "text": [
      "Widget Javascript not detected.  It may not be installed or enabled properly.\n"
     ]
    },
    {
     "data": {
      "application/vnd.jupyter.widget-view+json": {
       "model_id": "c398daa954254bd6aed209df5ae1fb67"
      }
     },
     "metadata": {},
     "output_type": "display_data"
    },
    {
     "name": "stdout",
     "output_type": "stream",
     "text": [
      "\n",
      "--- 57.874484062194824 seconds ---\n"
     ]
    },
    {
     "name": "stderr",
     "output_type": "stream",
     "text": [
      "Widget Javascript not detected.  It may not be installed or enabled properly.\n"
     ]
    },
    {
     "data": {
      "application/vnd.jupyter.widget-view+json": {
       "model_id": "a27735bb144045139ee58500bb9fc38d"
      }
     },
     "metadata": {},
     "output_type": "display_data"
    },
    {
     "name": "stdout",
     "output_type": "stream",
     "text": [
      "\n",
      "--- 52.48441195487976 seconds ---\n",
      "\n",
      "--- 52.60962724685669 seconds ---\n",
      "\n",
      "--- 52.32380795478821 seconds ---\n",
      "\n",
      "--- 52.5984103679657 seconds ---\n",
      "Writing the pickles\n",
      "Writing the pickles\n",
      "Writing the pickles\n",
      "Writing the pickles\n",
      "Done!\n",
      "Building bag of words for 10000 vocab size and 2 gram(s)\n",
      "Building bag of words for 20000 vocab size and 2 gram(s)\n",
      "Building bag of words for 40000 vocab size and 2 gram(s)\n",
      "Building bag of words for 80000 vocab size and 2 gram(s)\n"
     ]
    },
    {
     "name": "stderr",
     "output_type": "stream",
     "text": [
      "Widget Javascript not detected.  It may not be installed or enabled properly.\n",
      "Widget Javascript not detected.  It may not be installed or enabled properly.\n"
     ]
    },
    {
     "data": {
      "application/vnd.jupyter.widget-view+json": {
       "model_id": "fb6a4429d89a4fd0a774e4f621e8b29f"
      }
     },
     "metadata": {},
     "output_type": "display_data"
    },
    {
     "name": "stderr",
     "output_type": "stream",
     "text": [
      "Widget Javascript not detected.  It may not be installed or enabled properly.\n"
     ]
    },
    {
     "data": {
      "application/vnd.jupyter.widget-view+json": {
       "model_id": "fb3bdcc6bd7b403a9a0fa54c32d6a658"
      }
     },
     "metadata": {},
     "output_type": "display_data"
    },
    {
     "data": {
      "application/vnd.jupyter.widget-view+json": {
       "model_id": "04deb929c0e042409e631dd08d125838"
      }
     },
     "metadata": {},
     "output_type": "display_data"
    },
    {
     "name": "stderr",
     "output_type": "stream",
     "text": [
      "Widget Javascript not detected.  It may not be installed or enabled properly.\n"
     ]
    },
    {
     "data": {
      "application/vnd.jupyter.widget-view+json": {
       "model_id": "447ea90b88bb4482b5a1ae066e2f14c2"
      }
     },
     "metadata": {},
     "output_type": "display_data"
    },
    {
     "name": "stdout",
     "output_type": "stream",
     "text": [
      "\n",
      "--- 206.9628987312317 seconds ---\n",
      "\n",
      "--- 206.99327111244202 seconds ---\n",
      "\n",
      "--- 207.82174682617188 seconds ---\n",
      "\n",
      "--- 208.0192391872406 seconds ---\n"
     ]
    },
    {
     "name": "stderr",
     "output_type": "stream",
     "text": [
      "Widget Javascript not detected.  It may not be installed or enabled properly.\n"
     ]
    },
    {
     "data": {
      "application/vnd.jupyter.widget-view+json": {
       "model_id": "ede695c615484f27ac46cca2a9eb2a1a"
      }
     },
     "metadata": {},
     "output_type": "display_data"
    },
    {
     "name": "stderr",
     "output_type": "stream",
     "text": [
      "Widget Javascript not detected.  It may not be installed or enabled properly.\n"
     ]
    },
    {
     "data": {
      "application/vnd.jupyter.widget-view+json": {
       "model_id": "3efed96adce9403b91d861ca0acb44b3"
      }
     },
     "metadata": {},
     "output_type": "display_data"
    },
    {
     "name": "stderr",
     "output_type": "stream",
     "text": [
      "Widget Javascript not detected.  It may not be installed or enabled properly.\n"
     ]
    },
    {
     "data": {
      "application/vnd.jupyter.widget-view+json": {
       "model_id": "c00c7e5623eb4a5cbf6b324157163bb0"
      }
     },
     "metadata": {},
     "output_type": "display_data"
    },
    {
     "name": "stderr",
     "output_type": "stream",
     "text": [
      "Widget Javascript not detected.  It may not be installed or enabled properly.\n"
     ]
    },
    {
     "data": {
      "application/vnd.jupyter.widget-view+json": {
       "model_id": "07a05006713247579017e59d63055a9d"
      }
     },
     "metadata": {},
     "output_type": "display_data"
    },
    {
     "name": "stdout",
     "output_type": "stream",
     "text": [
      "\n",
      "--- 50.09529185295105 seconds ---\n"
     ]
    },
    {
     "name": "stderr",
     "output_type": "stream",
     "text": [
      "Widget Javascript not detected.  It may not be installed or enabled properly.\n"
     ]
    },
    {
     "data": {
      "application/vnd.jupyter.widget-view+json": {
       "model_id": "34c96dd178ee4f2996c722c138b7d27f"
      }
     },
     "metadata": {},
     "output_type": "display_data"
    },
    {
     "name": "stdout",
     "output_type": "stream",
     "text": [
      "\n",
      "--- 50.14944887161255 seconds ---\n"
     ]
    },
    {
     "name": "stderr",
     "output_type": "stream",
     "text": [
      "Widget Javascript not detected.  It may not be installed or enabled properly.\n"
     ]
    },
    {
     "data": {
      "application/vnd.jupyter.widget-view+json": {
       "model_id": "a073fb5133b4428a9de094faf0c50fb2"
      }
     },
     "metadata": {},
     "output_type": "display_data"
    },
    {
     "name": "stdout",
     "output_type": "stream",
     "text": [
      "\n",
      "--- 50.37921500205994 seconds ---\n"
     ]
    },
    {
     "name": "stderr",
     "output_type": "stream",
     "text": [
      "Widget Javascript not detected.  It may not be installed or enabled properly.\n"
     ]
    },
    {
     "data": {
      "application/vnd.jupyter.widget-view+json": {
       "model_id": "82789136bbe044c7b88b879d808ff97c"
      }
     },
     "metadata": {},
     "output_type": "display_data"
    },
    {
     "name": "stdout",
     "output_type": "stream",
     "text": [
      "\n",
      "--- 50.42693018913269 seconds ---\n"
     ]
    },
    {
     "name": "stderr",
     "output_type": "stream",
     "text": [
      "Widget Javascript not detected.  It may not be installed or enabled properly.\n"
     ]
    },
    {
     "data": {
      "application/vnd.jupyter.widget-view+json": {
       "model_id": "36dfa776988c4db0a3529369515c340b"
      }
     },
     "metadata": {},
     "output_type": "display_data"
    },
    {
     "name": "stdout",
     "output_type": "stream",
     "text": [
      "\n",
      "--- 49.599177837371826 seconds ---\n",
      "Writing the pickles\n",
      "\n",
      "--- 49.91905689239502 seconds ---\n",
      "\n",
      "--- 49.98067307472229 seconds ---\n",
      "\n",
      "--- 50.000596046447754 seconds ---\n",
      "Writing the pickles\n",
      "Writing the pickles\n",
      "Writing the pickles\n",
      "Done!\n",
      "Building bag of words for 10000 vocab size and 3 gram(s)\n",
      "Building bag of words for 20000 vocab size and 3 gram(s)\n",
      "Building bag of words for 40000 vocab size and 3 gram(s)\n",
      "Building bag of words for 80000 vocab size and 3 gram(s)\n"
     ]
    },
    {
     "name": "stderr",
     "output_type": "stream",
     "text": [
      "Widget Javascript not detected.  It may not be installed or enabled properly.\n"
     ]
    },
    {
     "data": {
      "application/vnd.jupyter.widget-view+json": {
       "model_id": "f73e7846a6a040ecb3f8634d6c474c01"
      }
     },
     "metadata": {},
     "output_type": "display_data"
    },
    {
     "name": "stderr",
     "output_type": "stream",
     "text": [
      "Widget Javascript not detected.  It may not be installed or enabled properly.\n",
      "Widget Javascript not detected.  It may not be installed or enabled properly.\n",
      "Widget Javascript not detected.  It may not be installed or enabled properly.\n"
     ]
    },
    {
     "data": {
      "application/vnd.jupyter.widget-view+json": {
       "model_id": "d47dd563d1da46e8814090afa3d351c5"
      }
     },
     "metadata": {},
     "output_type": "display_data"
    },
    {
     "data": {
      "application/vnd.jupyter.widget-view+json": {
       "model_id": "a68451d01a034ecaadd8ecb2fcee59f4"
      }
     },
     "metadata": {},
     "output_type": "display_data"
    },
    {
     "data": {
      "application/vnd.jupyter.widget-view+json": {
       "model_id": "307f0879014944a5a56697d505b08ddb"
      }
     },
     "metadata": {},
     "output_type": "display_data"
    },
    {
     "name": "stdout",
     "output_type": "stream",
     "text": [
      "\n",
      "--- 199.21411681175232 seconds ---\n",
      "\n",
      "--- 199.39743399620056 seconds ---\n",
      "\n",
      "--- 199.61689615249634 seconds ---\n",
      "\n",
      "--- 199.6978051662445 seconds ---\n"
     ]
    },
    {
     "name": "stderr",
     "output_type": "stream",
     "text": [
      "Widget Javascript not detected.  It may not be installed or enabled properly.\n"
     ]
    },
    {
     "data": {
      "application/vnd.jupyter.widget-view+json": {
       "model_id": "3043fa0cce164ed1a1849c01075c83d3"
      }
     },
     "metadata": {},
     "output_type": "display_data"
    },
    {
     "name": "stderr",
     "output_type": "stream",
     "text": [
      "Widget Javascript not detected.  It may not be installed or enabled properly.\n"
     ]
    },
    {
     "data": {
      "application/vnd.jupyter.widget-view+json": {
       "model_id": "527987587b5c438eb8a9963846f8d864"
      }
     },
     "metadata": {},
     "output_type": "display_data"
    },
    {
     "name": "stderr",
     "output_type": "stream",
     "text": [
      "Widget Javascript not detected.  It may not be installed or enabled properly.\n"
     ]
    },
    {
     "data": {
      "application/vnd.jupyter.widget-view+json": {
       "model_id": "179aa55f08aa43b0b5b50e2af121cc9f"
      }
     },
     "metadata": {},
     "output_type": "display_data"
    },
    {
     "name": "stderr",
     "output_type": "stream",
     "text": [
      "Widget Javascript not detected.  It may not be installed or enabled properly.\n"
     ]
    },
    {
     "data": {
      "application/vnd.jupyter.widget-view+json": {
       "model_id": "32de47eedcbe41e1917cf0318103057f"
      }
     },
     "metadata": {},
     "output_type": "display_data"
    },
    {
     "name": "stdout",
     "output_type": "stream",
     "text": [
      "\n",
      "--- 49.36317205429077 seconds ---\n",
      "\n",
      "--- 49.241148710250854 seconds ---\n"
     ]
    },
    {
     "name": "stderr",
     "output_type": "stream",
     "text": [
      "Widget Javascript not detected.  It may not be installed or enabled properly.\n"
     ]
    },
    {
     "data": {
      "application/vnd.jupyter.widget-view+json": {
       "model_id": "d47588a0c9dc4b079074c0d016a7bec5"
      }
     },
     "metadata": {},
     "output_type": "display_data"
    },
    {
     "name": "stderr",
     "output_type": "stream",
     "text": [
      "Widget Javascript not detected.  It may not be installed or enabled properly.\n"
     ]
    },
    {
     "data": {
      "application/vnd.jupyter.widget-view+json": {
       "model_id": "bc99ea13e81444ccb82bdeffc9a00cc9"
      }
     },
     "metadata": {},
     "output_type": "display_data"
    },
    {
     "name": "stdout",
     "output_type": "stream",
     "text": [
      "\n",
      "--- 49.319648027420044 seconds ---\n"
     ]
    },
    {
     "name": "stderr",
     "output_type": "stream",
     "text": [
      "Widget Javascript not detected.  It may not be installed or enabled properly.\n"
     ]
    },
    {
     "data": {
      "application/vnd.jupyter.widget-view+json": {
       "model_id": "91b05655ec944ab4bdb972bd3dbb47c4"
      }
     },
     "metadata": {},
     "output_type": "display_data"
    },
    {
     "name": "stdout",
     "output_type": "stream",
     "text": [
      "\n",
      "--- 49.5091598033905 seconds ---\n"
     ]
    },
    {
     "name": "stderr",
     "output_type": "stream",
     "text": [
      "Widget Javascript not detected.  It may not be installed or enabled properly.\n"
     ]
    },
    {
     "data": {
      "application/vnd.jupyter.widget-view+json": {
       "model_id": "1da7191d6aaf478694f45574fdc26e13"
      }
     },
     "metadata": {},
     "output_type": "display_data"
    },
    {
     "name": "stdout",
     "output_type": "stream",
     "text": [
      "\n",
      "--- 49.15333700180054 seconds ---\n",
      "\n",
      "--- 49.41314697265625 seconds ---\n",
      "\n",
      "--- 49.44836783409119 seconds ---\n",
      "Writing the pickles\n",
      "Writing the pickles\n",
      "Writing the pickles\n",
      "\n",
      "--- 49.607320070266724 seconds ---\n",
      "Writing the pickles\n",
      "Done!\n"
     ]
    }
   ],
   "source": [
    "from multiprocessing import Process\n",
    "\n",
    "def multi_write(vocab_size, n):\n",
    "    print(\"Building bag of words for {} vocab size and {} gram(s)\".format(vocab_size, n))\n",
    "    ngram_builder = NGramBuilder(max_vocab_size=vocab_size, n_gram_size=n, all_permutations=True) \n",
    "    train_data_indices = ngram_builder.get_indexed_dataset_from_training_text_vector(train_x)\n",
    "    val_data_indices, test_data_indices = ngram_builder.get_indexed_dataset_from_val_and_test_vector(val_x, test_x)\n",
    "\n",
    "    training_pickle_path = \"train_index_tokens_{}_{}.p\".format(n, vocab_size)\n",
    "    val_pickle_path = \"val_index_tokens_{}_{}.p\".format(n, vocab_size)\n",
    "    test_pickle_path = \"test_index_tokens_{}_{}.p\".format(n, vocab_size)\n",
    "    print('Writing the pickles')\n",
    "    pkl.dump(train_data_indices, open(training_pickle_path, \"wb\"))\n",
    "    pkl.dump(val_data_indices, open(val_pickle_path, \"wb\"))\n",
    "    pkl.dump(test_data_indices, open(test_pickle_path, \"wb\"))\n",
    "\n",
    "vocab_sizes = [10000, 20000, 40000, 80000]\n",
    "n_sizes = [1,2,3]\n",
    "# vocab_sizes = [100]\n",
    "# n_sizes = [1]\n",
    "for n in n_sizes:\n",
    "    processes = []\n",
    "    for vocab_size in vocab_sizes:\n",
    "        p = Process(target=multi_write, args=(vocab_size,n,))\n",
    "        processes.append(p)\n",
    "        p.start()\n",
    "\n",
    "    for one_process in processes:\n",
    "        one_process.join()\n",
    "\n",
    "    print(\"Done!\")\n"
   ]
  },
  {
   "cell_type": "code",
   "execution_count": 41,
   "metadata": {},
   "outputs": [
    {
     "name": "stdout",
     "output_type": "stream",
     "text": [
      "Building bag of words for 60000 vocab size and 2 gram(s)\n"
     ]
    },
    {
     "name": "stderr",
     "output_type": "stream",
     "text": [
      "Widget Javascript not detected.  It may not be installed or enabled properly.\n"
     ]
    },
    {
     "data": {
      "application/vnd.jupyter.widget-view+json": {
       "model_id": "b77b65d121a14ac696254afa7901411a"
      }
     },
     "metadata": {},
     "output_type": "display_data"
    },
    {
     "name": "stdout",
     "output_type": "stream",
     "text": [
      "\n",
      "--- 125.42640733718872 seconds ---\n"
     ]
    },
    {
     "name": "stderr",
     "output_type": "stream",
     "text": [
      "Widget Javascript not detected.  It may not be installed or enabled properly.\n"
     ]
    },
    {
     "data": {
      "application/vnd.jupyter.widget-view+json": {
       "model_id": "20a7ba43b4d34023abc92b7461f082af"
      }
     },
     "metadata": {},
     "output_type": "display_data"
    },
    {
     "name": "stdout",
     "output_type": "stream",
     "text": [
      "\n",
      "--- 31.162102937698364 seconds ---\n"
     ]
    },
    {
     "name": "stderr",
     "output_type": "stream",
     "text": [
      "Widget Javascript not detected.  It may not be installed or enabled properly.\n"
     ]
    },
    {
     "data": {
      "application/vnd.jupyter.widget-view+json": {
       "model_id": "39df5530ff8447fc84e944a402a762d9"
      }
     },
     "metadata": {},
     "output_type": "display_data"
    },
    {
     "name": "stdout",
     "output_type": "stream",
     "text": [
      "\n",
      "--- 152.40076804161072 seconds ---\n",
      "Writing the pickles\n"
     ]
    }
   ],
   "source": [
    "# Ad-hoc tokenization generation\n",
    "multi_write(60000, 2)"
   ]
  },
  {
   "cell_type": "code",
   "execution_count": null,
   "metadata": {
    "collapsed": true
   },
   "outputs": [],
   "source": [
    "#print(ngram_builder.vocabulary_tokens[0:100])\n",
    "print()\n",
    "print(train_data_indices[2])\n",
    "print()\n",
    "print(len(ngram_builder.id2token))\n",
    "#print(len(ngram_builder.vocabulary_tokens))\n",
    "print(ngram_builder.id2token[-100:])\n",
    "print()\n",
    "print([ngram_builder.token2id[k] for k in sorted(ngram_builder.token2id.keys())[:2]])\n",
    "print([v for v in list(ngram_builder.token2id.values())[:2]])\n",
    "\n",
    "print(len(train_data_indices))\n",
    "print(len(train_y))\n",
    "\n",
    "print(len(val_data_indices))\n",
    "print(len(val_y))"
   ]
  },
  {
   "cell_type": "markdown",
   "metadata": {},
   "source": [
    "### Part 2 Initial Hyperparameter Tuning"
   ]
  },
  {
   "cell_type": "code",
   "execution_count": 44,
   "metadata": {
    "collapsed": true
   },
   "outputs": [],
   "source": [
    "MAX_SENTENCE_LENGTH = 200\n",
    "\n",
    "import numpy as np\n",
    "import torch\n",
    "from torch.utils.data import Dataset\n",
    "\n",
    "class ImdbDataset(Dataset):\n",
    "    \"\"\"\n",
    "    Class that represents a train/validation/test dataset that's readable for PyTorch\n",
    "    Note that this class inherits torch.utils.data.Dataset\n",
    "    \"\"\"\n",
    "    \n",
    "    def __init__(self, data_list, target_list):\n",
    "        \"\"\"\n",
    "        @param data_list: list of imdb review tokens \n",
    "        @param target_list: list of imdb review targets \n",
    "\n",
    "        \"\"\"\n",
    "        self.data_list = data_list\n",
    "        self.target_list = target_list\n",
    "        assert (len(self.data_list) == len(self.target_list))\n",
    "\n",
    "    def __len__(self):\n",
    "        return len(self.data_list)\n",
    "        \n",
    "    def __getitem__(self, key):\n",
    "        \"\"\"\n",
    "        Triggered when you call dataset[i]\n",
    "        \"\"\"\n",
    "        \n",
    "        token_idx = self.data_list[key][:MAX_SENTENCE_LENGTH]\n",
    "        label = self.target_list[key]\n",
    "        return [token_idx, len(token_idx), label]\n",
    "\n",
    "def imdb_collate_func(batch):\n",
    "    \"\"\"\n",
    "    Customized function for DataLoader that dynamically pads the batch so that all \n",
    "    data have the same length\n",
    "    \"\"\"\n",
    "    data_list = []\n",
    "    label_list = []\n",
    "    length_list = []\n",
    "    #print(\"collate batch: \", batch[0][0])\n",
    "    #batch[0][0] = batch[0][0][:MAX_SENTENCE_LENGTH]\n",
    "    for datum in batch:\n",
    "        label_list.append(datum[2])\n",
    "        length_list.append(datum[1])\n",
    "    # padding\n",
    "    for datum in batch:\n",
    "        padded_vec = np.pad(np.array(datum[0]), \n",
    "                                pad_width=((0,MAX_SENTENCE_LENGTH-datum[1])), \n",
    "                                mode=\"constant\", constant_values=0)\n",
    "        data_list.append(padded_vec)\n",
    "    return [torch.from_numpy(np.array(data_list)), torch.LongTensor(length_list), torch.LongTensor(label_list)]\n",
    "\n",
    "# create pytorch dataloader\n",
    "\n",
    "\n",
    "# for i, (data, lengths, labels) in enumerate(train_loader):\n",
    "#    print(data)\n",
    "#    print(labels)\n",
    "#    break"
   ]
  },
  {
   "cell_type": "code",
   "execution_count": 17,
   "metadata": {
    "collapsed": true
   },
   "outputs": [],
   "source": [
    "# First import torch related libraries\n",
    "import torch\n",
    "import torch.nn as nn\n",
    "import torch.nn.functional as F\n",
    "\n",
    "class BagOfWords(nn.Module):\n",
    "    \"\"\"\n",
    "    BagOfWords classification model\n",
    "    \"\"\"\n",
    "    def __init__(self, vocab_size, emb_dim):\n",
    "        \"\"\"\n",
    "        @param vocab_size: size of the vocabulary. \n",
    "        @param emb_dim: size of the word embedding (use at least 100 to 500 and keep increasing)\n",
    "        \"\"\"\n",
    "        super(BagOfWords, self).__init__()\n",
    "        # pay attention to padding_idx \n",
    "        self.embed = nn.Embedding(vocab_size, emb_dim, padding_idx=0)\n",
    "        self.linear = nn.Linear(emb_dim,2)\n",
    "    \n",
    "    def forward(self, data, length):\n",
    "        \"\"\"\n",
    "        \n",
    "        @param data: matrix of size (batch_size, max_sentence_length). Each row in data represents a \n",
    "            review that is represented using n-gram index. Note that they are padded to have same length.\n",
    "        @param length: an int tensor of size (batch_size), which represents the non-trivial (excludes padding)\n",
    "            length of each sentences in the data.\n",
    "        \"\"\"\n",
    "        out = self.embed(data)\n",
    "        out = torch.sum(out, dim=1)\n",
    "        out /= length.view(length.size()[0],1).expand_as(out).float()\n",
    "     \n",
    "        # return logits\n",
    "        out = self.linear(out.float())\n",
    "        return out\n"
   ]
  },
  {
   "cell_type": "code",
   "execution_count": 22,
   "metadata": {
    "collapsed": true
   },
   "outputs": [],
   "source": [
    "class HyperParameterTuner(object):\n",
    "    \"\"\"\n",
    "    This class will help tune hyperparameters\n",
    "    \"\"\"\n",
    "    def __init__(self,model, criterion, optimizer):\n",
    "        self.model = model\n",
    "        self.criterion = criterion\n",
    "        self.optimizer = optimizer\n",
    "        \n",
    "    def get_indices_for_hyperparamters(self, n_gram_size, max_vocab_size):\n",
    "        print(\"Retrieving bag of words for {} vocab size and {} gram(s)\".format(max_vocab_size, n_gram_size))\n",
    "        training_pickle_path = \"train_index_tokens_{}_{}.p\".format(n_gram_size, max_vocab_size)\n",
    "        val_pickle_path = \"val_index_tokens_{}_{}.p\".format(n_gram_size, max_vocab_size)\n",
    "        test_pickle_path = \"test_index_tokens_{}_{}.p\".format(n_gram_size, max_vocab_size)\n",
    "        train_data_indices = pkl.load(open(training_pickle_path, \"rb\"))\n",
    "        val_data_indices = pkl.load(open(val_pickle_path, \"rb\"))\n",
    "        test_data_indices = pkl.load(open(test_pickle_path, \"rb\"))\n",
    "        return train_data_indices, val_data_indices, test_data_indices\n",
    "\n",
    "    # Function for testing the model\n",
    "    def test_model2(self, loader, record_classifications=False):\n",
    "        \"\"\"\n",
    "        Help function that tests the model's performance on a dataset\n",
    "        @param: loader - data loader for the dataset to test against\n",
    "        \"\"\"\n",
    "        correct = 0\n",
    "        total = 0\n",
    "        self.model.eval()\n",
    "        for data, lengths, labels in loader:\n",
    "            data_batch, length_batch, label_batch = data, lengths, labels\n",
    "            outputs = F.softmax(self.model(data_batch, length_batch), dim=1)\n",
    "            predicted = outputs.max(1, keepdim=True)[1]\n",
    "            total += labels.size(0)\n",
    "            correct += predicted.eq(labels.view_as(predicted)).sum().item()\n",
    "        return (100 * correct / total)\n",
    "\n",
    "    def train_and_validate_model(self, num_epochs, train_loader, val_loader):\n",
    "        accuracies = []\n",
    "        losses = []\n",
    "        for epoch in range(num_epochs):\n",
    "            running_loss = 0.0\n",
    "            last_accuracy = 0\n",
    "            for i, (data, lengths, labels) in enumerate(train_loader):\n",
    "                self.model.train()\n",
    "                data_batch, length_batch, label_batch = data, lengths, labels\n",
    "                self.optimizer.zero_grad()\n",
    "                outputs = self.model(data_batch, length_batch)\n",
    "                loss = self.criterion(outputs, label_batch)\n",
    "                loss.backward()\n",
    "                self.optimizer.step()\n",
    "                running_loss += loss.item()\n",
    "                # validate every 100 iterations\n",
    "                if i > 0 and i % 100 == 0:\n",
    "                    # validate\n",
    "                    print('loss: ' + str(running_loss))\n",
    "                    val_acc = self.test_model2(val_loader)\n",
    "                    last_accuracy = val_acc\n",
    "                    print('Epoch: [{}/{}], Step: [{}/{}], Validation Acc: {}'.format( \n",
    "                               epoch+1, num_epochs, i+1, len(train_loader), val_acc))\n",
    "            losses.append(running_loss)\n",
    "            accuracies.append(last_accuracy)\n",
    "        print( (accuracies, losses))\n",
    "        return accuracies, losses\n"
   ]
  },
  {
   "cell_type": "code",
   "execution_count": 31,
   "metadata": {
    "collapsed": true
   },
   "outputs": [],
   "source": [
    "# Find out how many epics should be run\n",
    "# DONT RERUN ME - RUN THE BELOW\n",
    "\n",
    "def run_model(max_vocab_size,n):\n",
    "    tuning_record = []\n",
    "    learning_rates = [0.01]\n",
    "#     learning_rates = [0.01]\n",
    "    emb_dim = 100\n",
    "    model = BagOfWords(max_vocab_size + 2, emb_dim)\n",
    "    for learning_rate in learning_rates:\n",
    "        print(\"learning rate: \"+ str(learning_rate))\n",
    "        # Criterion and Optimizer\n",
    "        criterion = torch.nn.CrossEntropyLoss() \n",
    "        # criterion = torch.nn.BCEWithLogitsLoss()\n",
    "        optimizer = torch.optim.Adam(model.parameters(), lr=learning_rate)\n",
    "        hpt = HyperParameterTuner(model, criterion, optimizer)\n",
    "        train_data_indices, val_data_indices, test_data_indices = hpt.get_indices_for_hyperparamters(n, max_vocab_size)\n",
    "\n",
    "        BATCH_SIZE = 32\n",
    "        print(len(train_y))\n",
    "        print(len(train_data_indices))\n",
    "        train_dataset = ImdbDataset(train_data_indices, train_y)\n",
    "        train_loader = torch.utils.data.DataLoader(dataset=train_dataset, \n",
    "                                                   batch_size=BATCH_SIZE,\n",
    "                                                   collate_fn=imdb_collate_func,\n",
    "                                                   shuffle=True)\n",
    "\n",
    "        val_dataset = ImdbDataset(val_data_indices, val_y)\n",
    "        val_loader = torch.utils.data.DataLoader(dataset=val_dataset, \n",
    "                                                   batch_size=BATCH_SIZE,\n",
    "                                                   collate_fn=imdb_collate_func,\n",
    "                                                   shuffle=True)\n",
    "\n",
    "        num_epochs = 20 # number epoch to train\n",
    "        accuracies, losses = hpt.train_and_validate_model(num_epochs, train_loader, val_loader)\n",
    "        accuracies_all = (max_vocab_size, n, learning_rate, accuracies, losses)\n",
    "        tuning_record.append(accuracies_all)\n",
    "        print(accuracies_all)\n",
    "    pkl.dump(tuning_record, open(\"tuning_record_long_epic_{}_{}.p\".format(n, max_vocab_size), \"wb\"))\n",
    "\n",
    "# run_model(80000,3)\n",
    "    \n",
    "# vocab_sizes = [10000, 20000, 40000, 80000]\n",
    "# n_sizes = [2]\n",
    "# for n in n_sizes:\n",
    "#     processes = []\n",
    "#     for vocab_size in vocab_sizes:\n",
    "#         p = Process(target=run_model, args=(vocab_size,n,))\n",
    "#         processes.append(p)\n",
    "#         p.start()\n",
    "\n",
    "#     for one_process in processes:\n",
    "#         one_process.join()\n",
    "\n",
    "#     print(\"Done!\")\n"
   ]
  },
  {
   "cell_type": "code",
   "execution_count": 32,
   "metadata": {
    "collapsed": true
   },
   "outputs": [],
   "source": [
    "# RUN ME!!! NOT ABOVE - WAIT FOR ABOVE TO FINISH\n",
    "\n",
    "def run_model(max_vocab_size,n):\n",
    "    tuning_record = []\n",
    "    learning_rates = [0.1, 0.05, 0.01, 0.005, 0.001]\n",
    "#     learning_rates = [0.01]\n",
    "    emb_dim = 100\n",
    "    model = BagOfWords(max_vocab_size + 2, emb_dim)\n",
    "    for learning_rate in learning_rates:\n",
    "        print(\"learning rate: \"+ str(learning_rate))\n",
    "        # Criterion and Optimizer\n",
    "        criterion = torch.nn.CrossEntropyLoss() \n",
    "        # criterion = torch.nn.BCEWithLogitsLoss()\n",
    "        optimizer = torch.optim.Adam(model.parameters(), lr=learning_rate)\n",
    "        hpt = HyperParameterTuner(model, criterion, optimizer)\n",
    "        train_data_indices, val_data_indices, test_data_indices = hpt.get_indices_for_hyperparamters(n, max_vocab_size)\n",
    "\n",
    "        BATCH_SIZE = 32\n",
    "        train_dataset = ImdbDataset(train_data_indices, train_y)\n",
    "        train_loader = torch.utils.data.DataLoader(dataset=train_dataset, \n",
    "                                                   batch_size=BATCH_SIZE,\n",
    "                                                   collate_fn=imdb_collate_func,\n",
    "                                                   shuffle=True)\n",
    "\n",
    "        val_dataset = ImdbDataset(val_data_indices, val_y)\n",
    "        val_loader = torch.utils.data.DataLoader(dataset=val_dataset, \n",
    "                                                   batch_size=BATCH_SIZE,\n",
    "                                                   collate_fn=imdb_collate_func,\n",
    "                                                   shuffle=True)\n",
    "\n",
    "        num_epochs = 5 # number epoch to train\n",
    "        accuracies, losses = hpt.train_and_validate_model(num_epochs, train_loader, val_loader)\n",
    "        accuracies_all = (max_vocab_size, n, learning_rate, accuracies, losses)\n",
    "        tuning_record.append(accuracies_all)\n",
    "        print(accuracies_all)\n",
    "    pkl.dump(tuning_record, open(\"tuning_record_{}_{}.p\".format(n, max_vocab_size), \"wb\"))\n",
    "\n",
    "# run_model(80000,3)\n",
    "    \n",
    "# vocab_sizes = [10000, 20000, 40000, 80000]\n",
    "# n_sizes = [1,2,3]\n",
    "# for n in n_sizes:\n",
    "#     processes = []\n",
    "#     for vocab_size in vocab_sizes:\n",
    "#         p = Process(target=run_model, args=(vocab_size,n,))\n",
    "#         processes.append(p)\n",
    "#         p.start()\n",
    "\n",
    "#     for one_process in processes:\n",
    "#         one_process.join()\n",
    "\n",
    "#     print(\"Done!\")\n"
   ]
  },
  {
   "cell_type": "code",
   "execution_count": null,
   "metadata": {
    "collapsed": true
   },
   "outputs": [],
   "source": [
    "tuning_record2 = pkl.load(open(\"tuning_record.p\", \"rb\"))\n",
    "print(str(tuning_record2))"
   ]
  },
  {
   "cell_type": "code",
   "execution_count": null,
   "metadata": {
    "collapsed": true
   },
   "outputs": [],
   "source": [
    "# Run this so your plots show properly\n",
    "import matplotlib.pyplot as plt\n",
    "from sklearn.metrics import roc_curve, auc\n",
    "%matplotlib inline\n",
    "#plt.rcParams['figure.figsize'] = 12, 12\n",
    "\n",
    "val_predicted_y = []\n",
    "actual_y = []\n",
    "\n",
    "for data, lengths, labels in val_loader:\n",
    "        data_batch, length_batch, label_batch = data, lengths, labels\n",
    "        print(model(data_batch, length_batch))\n",
    "        outputs = F.softmax(model(data_batch, length_batch), dim=1)\n",
    "        print(outputs[:,0])\n",
    "#         val_predicted_y += (outputs.max(1, keepdim=True)[1]).squeeze(1).tolist()\n",
    "        val_predicted_y += outputs[:,0].squeeze(0).tolist()\n",
    "        actual_y += labels.tolist()\n",
    "        print(val_predicted_y)\n",
    "        print(actual_y)\n",
    "        break\n",
    "\n",
    "fpr_log_ct, tpr_log_ct, threshold_log_ct = roc_curve(actual_y, val_predicted_y)\n",
    "roc_auc_log_ct = auc(fpr_log_ct, tpr_log_ct)\n",
    "print(roc_auc_log_ct)\n",
    "\n",
    "plt.title('Comparing ROC Across Different Vocabulary Sizes')\n",
    "plt.plot(fpr_log_ct, tpr_log_ct, 'b', label = 'AUC for vocab size of 10,000 = %0.4f' % roc_auc_log_ct)\n",
    "# plt.plot(fpr_nb_ct, tpr_nb_ct, 'b', label = 'AUC for vocab size of 20,000 = %0.4f' % roc_auc_nb_ct, color='purple')\n",
    "# plt.plot(fpr_log_tfidf, tpr_log_tfidf, 'b', label = 'AUC for vocab size of 40,000 = %0.4f' % roc_auc_log_tfidf, color='green')\n",
    "# plt.plot(fpr_nb_tfidf, tpr_nb_tfidf, 'b', label = 'AUC for vocab size of 80,000 = %0.4f' % roc_auc_nb_tfidf, color='orange')\n",
    "plt.legend(loc = 'lower right')\n",
    "plt.plot([0, 1], [0, 1],'r--')\n",
    "plt.xlim([0, 1])\n",
    "plt.ylim([0, 1])\n",
    "plt.ylabel('True Positive Rate')\n",
    "plt.xlabel('False Positive Rate')\n",
    "plt.show()"
   ]
  },
  {
   "cell_type": "markdown",
   "metadata": {},
   "source": [
    "### Analyzing The Hyperparameter Tuning Output"
   ]
  },
  {
   "cell_type": "code",
   "execution_count": 1,
   "metadata": {},
   "outputs": [
    {
     "name": "stdout",
     "output_type": "stream",
     "text": [
      "[(20000, 2, 0.01, [85.24, 84.42, 82.16, 82.88, 82.48, 82.18, 82.34, 82.6, 82.56, 82.44, 82.4, 82.36, 82.38, 82.28, 82.28, 82.22, 82.12, 82.14, 82.1, 82.02], [275.2626093029976, 124.39769503846765, 60.75663270428777, 28.24606984294951, 9.990154033526778, 3.1930819991976023, 1.0672514345496893, 0.4932357408106327, 0.2894637659192085, 0.1962379589676857, 0.1364305317401886, 0.09588363021612167, 0.06790123879909515, 0.04828180372714996, 0.03435192257165909, 0.02443981170654297, 0.017557375133037567, 0.012486197054386139, 0.008922010660171509, 0.00644703209400177])]\n"
     ]
    }
   ],
   "source": [
    "import pickle as pkl\n",
    "tuning_record1 = pkl.load(open(\"tuning_record_long_epic_2_10000.p\", \"rb\"))\n",
    "tuning_record2 = pkl.load(open(\"tuning_record_long_epic_2_20000.p\", \"rb\"))\n",
    "tuning_record3 = pkl.load(open(\"tuning_record_long_epic_2_40000.p\", \"rb\"))\n",
    "tuning_record4 = pkl.load(open(\"tuning_record_long_epic_2_80000.p\", \"rb\"))\n",
    "\n",
    "print(str(tuning_record2))"
   ]
  },
  {
   "cell_type": "code",
   "execution_count": 2,
   "metadata": {},
   "outputs": [
    {
     "data": {
      "image/png": "[encoded data removed]",
      "text/plain": [
       "<matplotlib.figure.Figure at 0x109972c18>"
      ]
     },
     "metadata": {},
     "output_type": "display_data"
    }
   ],
   "source": [
    "# Run this so your plots show properly\n",
    "import matplotlib.pyplot as plt\n",
    "from sklearn.metrics import roc_curve, auc\n",
    "%matplotlib inline\n",
    "\n",
    "plt.plot(list(range(0, 20)), tuning_record1[0][4], label=\"Vocab Size = 10000\") \n",
    "plt.plot(list(range(0, 20)), tuning_record2[0][4], label=\"Vocab Size = 20000\") \n",
    "plt.plot(list(range(0, 20)), tuning_record3[0][4], label=\"Vocab Size = 40000\") \n",
    "plt.plot(list(range(0, 20)), tuning_record4[0][4], label=\"Vocab Size = 80000\") \n",
    "\n",
    "plt.title('Comparing Training Loss Across Vocabulary Sizes')\n",
    "plt.legend(loc = 'upper right')\n",
    "# plt.ylim([0, 15])\n",
    "plt.xlim([0, 20])\n",
    "\n",
    "plt.ylabel('Loss Score*')\n",
    "plt.xlabel('Number of Epochs')\n",
    "txt=\"* Adam-based optimizer with fixed learning rate=0.01 and n=2 (bigrams)\"\n",
    "plt.figtext(0.5, -0.05, txt, wrap=True, horizontalalignment='center', fontsize=9)\n",
    "plt.show() "
   ]
  },
  {
   "cell_type": "code",
   "execution_count": 3,
   "metadata": {},
   "outputs": [
    {
     "data": {
      "image/png": "[encoded data removed]",
      "text/plain": [
       "<matplotlib.figure.Figure at 0x109972828>"
      ]
     },
     "metadata": {},
     "output_type": "display_data"
    }
   ],
   "source": [
    "plt.plot(list(range(0, 20)), tuning_record1[0][3], label=\"Vocab Size = 10000\") \n",
    "plt.plot(list(range(0, 20)), tuning_record2[0][3], label=\"Vocab Size = 20000\") \n",
    "plt.plot(list(range(0, 20)), tuning_record3[0][3], label=\"Vocab Size = 40000\") \n",
    "plt.plot(list(range(0, 20)), tuning_record4[0][3], label=\"Vocab Size = 80000\") \n",
    "\n",
    "plt.title('Comparing Validation Accuracy Across Vocabulary Sizes')\n",
    "plt.legend(loc = 'center right')\n",
    "# plt.ylim([0, 15])\n",
    "plt.xlim([0, 20])\n",
    "txt=\"* Adam-based optimizer with fixed learning rate=0.01 and n=2 (bigrams)\"\n",
    "plt.figtext(0.5, -0.05, txt, wrap=True, horizontalalignment='center', fontsize=9)\n",
    "plt.ylabel('Accuracy (%)*')\n",
    "plt.xlabel('Number of Epochs')\n",
    "plt.show() "
   ]
  },
  {
   "cell_type": "code",
   "execution_count": 4,
   "metadata": {},
   "outputs": [
    {
     "name": "stdout",
     "output_type": "stream",
     "text": [
      "[(10000, 1, 0.1, [84.34, 83.26, 82.2, 82.94, 83.14], [260.3383874297142, 191.7387068681419, 183.1320580225438, 161.13500295206904, 153.22907303925604]), (10000, 1, 0.05, [84.28, 82.8, 83.92, 83.38, 83.24], [91.53804728295654, 64.00406283605844, 55.68097488582134, 49.54282072465867, 39.71485319454223]), (10000, 1, 0.01, [83.66, 83.2, 83.16, 83.26, 83.3], [14.826263209804893, 4.325368814170361, 1.0845541274175048, 0.26774131692945957, 0.11240938678383827]), (10000, 1, 0.005, [83.4, 83.38, 83.28, 83.28, 83.32], [0.054620299488306046, 0.009544014930725098, 0.0035431906580924988, 0.0021317973732948303, 0.0014294013381004333]), (10000, 1, 0.001, [83.24, 83.24, 83.26, 83.32, 83.24], [0.0007681995630264282, 0.00038580596446990967, 0.00023049116134643555, 0.0001496821641921997, 0.00010259449481964111])]\n"
     ]
    }
   ],
   "source": [
    "tuning_record1 = pkl.load(open(\"tuning_record_1_10000.p\", \"rb\"))\n",
    "tuning_record2 = pkl.load(open(\"tuning_record_1_20000.p\", \"rb\"))\n",
    "tuning_record3 = pkl.load(open(\"tuning_record_1_40000.p\", \"rb\"))\n",
    "tuning_record4 = pkl.load(open(\"tuning_record_1_80000.p\", \"rb\"))\n",
    "print(tuning_record1)\n"
   ]
  },
  {
   "cell_type": "code",
   "execution_count": 5,
   "metadata": {},
   "outputs": [
    {
     "name": "stdout",
     "output_type": "stream",
     "text": [
      "(10000, 1, 0.1, [84.34, 83.26, 82.2, 82.94, 83.14], [260.3383874297142, 191.7387068681419, 183.1320580225438, 161.13500295206904, 153.22907303925604])\n",
      "(10000, 1, 0.05, [84.28, 82.8, 83.92, 83.38, 83.24], [91.53804728295654, 64.00406283605844, 55.68097488582134, 49.54282072465867, 39.71485319454223])\n",
      "(10000, 1, 0.01, [83.66, 83.2, 83.16, 83.26, 83.3], [14.826263209804893, 4.325368814170361, 1.0845541274175048, 0.26774131692945957, 0.11240938678383827])\n",
      "(10000, 1, 0.005, [83.4, 83.38, 83.28, 83.28, 83.32], [0.054620299488306046, 0.009544014930725098, 0.0035431906580924988, 0.0021317973732948303, 0.0014294013381004333])\n",
      "(10000, 1, 0.001, [83.24, 83.24, 83.26, 83.32, 83.24], [0.0007681995630264282, 0.00038580596446990967, 0.00023049116134643555, 0.0001496821641921997, 0.00010259449481964111])\n"
     ]
    },
    {
     "data": {
      "image/png": "[encoded data removed]",
      "text/plain": [
       "<matplotlib.figure.Figure at 0x1a19a33748>"
      ]
     },
     "metadata": {},
     "output_type": "display_data"
    },
    {
     "name": "stdout",
     "output_type": "stream",
     "text": [
      "(80000, 1, 0.1, [83.6, 84.54, 83.9, 83.26, 83.16], [252.3715399801731, 134.10066381003708, 102.30668142344803, 76.91102471854538, 78.35874643083662])\n",
      "(80000, 1, 0.05, [84.14, 84.12, 84.48, 84.54, 83.7], [32.755223620682955, 8.162012211978436, 7.3891042014583945, 15.150889470241964, 13.991887725889683])\n",
      "(80000, 1, 0.01, [84.9, 84.66, 84.68, 84.68, 84.7], [3.1948629915714264, 0.14797655306756496, 0.00048775970935821533, 0.00025919824838638306, 0.00020547211170196533])\n",
      "(80000, 1, 0.005, [84.66, 84.62, 84.72, 84.7, 84.72], [0.0001702532172203064, 2.4706125259399414e-05, 1.0401010513305664e-05, 7.286667823791504e-06, 5.349516868591309e-06])\n",
      "(80000, 1, 0.001, [84.72, 84.72, 84.72, 84.76, 84.72], [4.127621650695801e-06, 3.5315752029418945e-06, 2.9653310775756836e-06, 2.652406692504883e-06, 2.205371856689453e-06])\n"
     ]
    },
    {
     "data": {
      "image/png": "[encoded data removed]",
      "text/plain": [
       "<matplotlib.figure.Figure at 0x1a193c7d30>"
      ]
     },
     "metadata": {},
     "output_type": "display_data"
    }
   ],
   "source": [
    "tuning_records = [tuning_record1,tuning_record2,tuning_record3,tuning_record4]\n",
    "for record in tuning_record1:\n",
    "    print(record)\n",
    "    plt.plot(list(range(1, 6)), record[3], label=\"Learning Rate= {}\".format(record[2]))\n",
    "\n",
    "plt.title('Comparing Validation Accuracy Across Learning Rates')\n",
    "plt.legend(loc = 'upper right')\n",
    "# plt.ylim([0, 15])\n",
    "plt.xlim([1, 5])\n",
    "txt=\"* Adam-based optimizer with fixed vocab_size=10000 and n=1 (monograms)\"\n",
    "plt.figtext(0.5, -0.05, txt, wrap=True, horizontalalignment='center', fontsize=9)\n",
    "plt.ylabel('Accuracy (%)*')\n",
    "plt.xlabel('Number of Epochs')\n",
    "plt.show() \n",
    "\n",
    "for record in tuning_record4:\n",
    "    print(record)\n",
    "    plt.plot(list(range(1, 6)), record[3], label=\"Learning Rates= {}\".format(record[2]))\n",
    "\n",
    "plt.title('Comparing Validation Accuracy Across Learning Rate')\n",
    "plt.legend(loc = 'lower left')\n",
    "# plt.ylim([0, 15])\n",
    "plt.xlim([1, 5])\n",
    "txt=\"* Adam-based optimizer with fixed vocab_size=80000 and n=1 (monograms)\"\n",
    "plt.figtext(0.5, -0.05, txt, wrap=True, horizontalalignment='center', fontsize=9)\n",
    "plt.ylabel('Accuracy (%)*')\n",
    "plt.xlabel('Number of Epochs')\n",
    "plt.show() "
   ]
  },
  {
   "cell_type": "code",
   "execution_count": 6,
   "metadata": {},
   "outputs": [
    {
     "name": "stdout",
     "output_type": "stream",
     "text": [
      "[(10000, 2, 0.1, [82.92, 80.0, 81.6, 80.86, 78.64], [294.22625556588173, 205.6838732548058, 187.8938559629023, 175.93147046677768, 171.53603014256805]), (10000, 2, 0.05, [80.84, 80.9, 79.52, 80.36, 80.02], [101.73344067670405, 74.76163446344435, 62.671300298534334, 54.30119164288044, 48.24652512278408]), (10000, 2, 0.01, [79.96, 79.9, 79.82, 79.8, 80.04], [17.717546730302274, 5.338954351842403, 1.3117111660540104, 0.3788757100701332, 0.1600279975682497]), (10000, 2, 0.005, [79.92, 79.96, 79.98, 80.0, 79.98], [0.06806452944874763, 0.009045712649822235, 0.004305586218833923, 0.002630949020385742, 0.0017470940947532654]), (10000, 2, 0.001, [80.04, 80.0, 80.04, 79.98, 80.06], [0.0008907616138458252, 0.00043614208698272705, 0.00025159120559692383, 0.0001643747091293335, 0.00011147558689117432])]\n"
     ]
    }
   ],
   "source": [
    "tuning_record1 = pkl.load(open(\"tuning_record_2_10000.p\", \"rb\"))\n",
    "tuning_record2 = pkl.load(open(\"tuning_record_2_20000.p\", \"rb\"))\n",
    "tuning_record3 = pkl.load(open(\"tuning_record_2_40000.p\", \"rb\"))\n",
    "tuning_record4 = pkl.load(open(\"tuning_record_2_80000.p\", \"rb\"))\n",
    "print(tuning_record1)"
   ]
  },
  {
   "cell_type": "code",
   "execution_count": 7,
   "metadata": {},
   "outputs": [
    {
     "name": "stdout",
     "output_type": "stream",
     "text": [
      "(10000, 2, 0.1, [82.92, 80.0, 81.6, 80.86, 78.64], [294.22625556588173, 205.6838732548058, 187.8938559629023, 175.93147046677768, 171.53603014256805])\n",
      "(10000, 2, 0.05, [80.84, 80.9, 79.52, 80.36, 80.02], [101.73344067670405, 74.76163446344435, 62.671300298534334, 54.30119164288044, 48.24652512278408])\n",
      "(10000, 2, 0.01, [79.96, 79.9, 79.82, 79.8, 80.04], [17.717546730302274, 5.338954351842403, 1.3117111660540104, 0.3788757100701332, 0.1600279975682497])\n",
      "(10000, 2, 0.005, [79.92, 79.96, 79.98, 80.0, 79.98], [0.06806452944874763, 0.009045712649822235, 0.004305586218833923, 0.002630949020385742, 0.0017470940947532654])\n",
      "(10000, 2, 0.001, [80.04, 80.0, 80.04, 79.98, 80.06], [0.0008907616138458252, 0.00043614208698272705, 0.00025159120559692383, 0.0001643747091293335, 0.00011147558689117432])\n"
     ]
    },
    {
     "data": {
      "image/png": "[encoded data removed]",
      "text/plain": [
       "<matplotlib.figure.Figure at 0x1a1a04e828>"
      ]
     },
     "metadata": {},
     "output_type": "display_data"
    },
    {
     "name": "stdout",
     "output_type": "stream",
     "text": [
      "(80000, 2, 0.1, [82.34, 82.98, 80.68, 83.24, 82.92], [262.0730172172189, 59.72115977760404, 63.96015890035778, 59.73004257492721, 63.626637862063944])\n",
      "(80000, 2, 0.05, [83.5, 83.3, 83.42, 81.7, 83.14], [24.03433434618637, 5.708479731343687, 1.6294964579865336, 0.25569661892950535, 0.6123544601723552])\n",
      "(80000, 2, 0.01, [83.06, 83.02, 83.02, 83.04, 83.04], [0.0004440024495124817, 5.811452865600586e-07, 2.8312206268310547e-07, 1.9371509552001953e-07, 1.4901161193847656e-07])\n",
      "(80000, 2, 0.005, [83.0, 82.9, 83.02, 83.04, 83.0], [1.6391277313232422e-07, 1.6391277313232422e-07, 7.450580596923828e-08, 7.450580596923828e-08, 7.450580596923828e-08])\n",
      "(80000, 2, 0.001, [83.04, 83.02, 83.02, 83.04, 83.04], [2.9802322387695312e-08, 1.4901161193847656e-08, 1.4901161193847656e-08, 1.4901161193847656e-08, 2.9802322387695312e-08])\n"
     ]
    },
    {
     "data": {
      "image/png": "[encoded data removed]",
      "text/plain": [
       "<matplotlib.figure.Figure at 0x1a1a287898>"
      ]
     },
     "metadata": {},
     "output_type": "display_data"
    }
   ],
   "source": [
    "for record in tuning_record1:\n",
    "    print(record)\n",
    "    plt.plot(list(range(1, 6)), record[3], label=\"Learning Rate= {}\".format(record[2]))\n",
    "\n",
    "plt.title('Comparing Validation Accuracy Across Learning Rates')\n",
    "plt.legend(loc = 'upper right')\n",
    "# plt.ylim([0, 15])\n",
    "plt.xlim([1, 5])\n",
    "txt=\"* Adam-based optimizer with fixed vocab_size=10000 and n=2 (bigrams)\"\n",
    "plt.figtext(0.5, -0.05, txt, wrap=True, horizontalalignment='center', fontsize=9)\n",
    "plt.ylabel('Accuracy (%)*')\n",
    "plt.xlabel('Number of Epochs')\n",
    "plt.show() \n",
    "\n",
    "for record in tuning_record4:\n",
    "    print(record)\n",
    "    plt.plot(list(range(1, 6)), record[3], label=\"Learning Rates= {}\".format(record[2]))\n",
    "\n",
    "plt.title('Comparing Validation Accuracy Across Learning Rate')\n",
    "plt.legend(loc = 'lower left')\n",
    "# plt.ylim([0, 15])\n",
    "plt.xlim([1, 5])\n",
    "txt=\"* Adam-based optimizer with fixed vocab_size=80000 and n=2 (bigrams)\"\n",
    "plt.figtext(0.5, -0.05, txt, wrap=True, horizontalalignment='center', fontsize=9)\n",
    "plt.ylabel('Accuracy (%)*')\n",
    "plt.xlabel('Number of Epochs')\n",
    "plt.show() "
   ]
  },
  {
   "cell_type": "code",
   "execution_count": 8,
   "metadata": {},
   "outputs": [
    {
     "name": "stdout",
     "output_type": "stream",
     "text": [
      "(10000, 3, 0.1, [77.58, 71.36, 76.42, 75.72, 75.44], [350.1494650244713, 235.52686066925526, 199.2169247865677, 181.60287899523973, 172.21290444023907])\n",
      "(10000, 3, 0.05, [76.06, 75.36, 74.96, 75.3, 74.24], [119.10407253727317, 102.19485415704548, 89.88831726461649, 81.36460338253528, 74.72403490915895])\n",
      "(10000, 3, 0.01, [74.56, 74.8, 74.6, 74.66, 74.48], [39.15769386291504, 28.765928076580167, 23.217652319930494, 18.51104157231748, 14.738234945572913])\n",
      "(10000, 3, 0.005, [74.44, 74.42, 74.4, 74.28, 74.5], [10.790481524541974, 9.190325122326612, 7.521255375817418, 6.3975482834503055, 5.165786948055029])\n",
      "(10000, 3, 0.001, [74.4, 74.5, 74.48, 74.42, 74.38], [3.9013956347480416, 3.624461450614035, 3.4340705797076225, 3.2760291444137692, 3.0947384322062135])\n"
     ]
    },
    {
     "data": {
      "image/png": "[encoded data removed]",
      "text/plain": [
       "<matplotlib.figure.Figure at 0x109834940>"
      ]
     },
     "metadata": {},
     "output_type": "display_data"
    }
   ],
   "source": [
    "records = pkl.load(open(\"tuning_record_3_10000.p\", \"rb\"))\n",
    "for record in records:\n",
    "    print(record)\n",
    "    plt.plot(list(range(1, 6)), record[3], label=\"Learning Rate= {}\".format(record[2]))\n",
    "\n",
    "plt.title('Comparing Validation Accuracy Across Learning Rates')\n",
    "plt.legend(loc = 'lower right')\n",
    "# plt.ylim([0, 15])\n",
    "plt.xlim([1, 5])\n",
    "txt=\"* Adam-based optimizer with fixed vocab_size=10000 and n=3 (trigrams)\"\n",
    "plt.figtext(0.5, -0.05, txt, wrap=True, horizontalalignment='center', fontsize=9)\n",
    "plt.ylabel('Accuracy (%)*')\n",
    "plt.xlabel('Number of Epochs')\n",
    "plt.show() "
   ]
  },
  {
   "cell_type": "code",
   "execution_count": null,
   "metadata": {
    "collapsed": true
   },
   "outputs": [],
   "source": [
    "vocab_sizes = [10000, 20000, 40000, 80000]\n",
    "n_sizes = [1,2,3]\n",
    "for n in n_sizes:\n",
    "    for vocab_size in vocab_sizes:\n",
    "        tuning_record = pkl.load(open(\"tuning_record_{}_{}.p\".format(n,vocab_size), \"rb\"))\n",
    "        learning_rates = [0.1, 0.05, 0.01, 0.005, 0.001]\n",
    "        for i, rate in enumerate(learning_rates):\n",
    "            print(n)\n",
    "            print(vocab_size)\n",
    "            print(rate)\n",
    "            print(tuning_record[i][2])\n",
    "            print()\n",
    "            print(tuning_record[i][3][4])\n",
    "            print()\n",
    "\n"
   ]
  },
  {
   "cell_type": "markdown",
   "metadata": {},
   "source": [
    "### Part 3 Testing the optimizers"
   ]
  },
  {
   "cell_type": "code",
   "execution_count": 46,
   "metadata": {},
   "outputs": [
    {
     "name": "stdout",
     "output_type": "stream",
     "text": [
      "Retrieving bag of words for 60000 vocab size and 2 gram(s)\n",
      "loss: 67.87209051847458\n",
      "Epoch: [1/5], Step: [101/625], Validation Acc: 77.88\n",
      "loss: 114.53875422477722\n",
      "Epoch: [1/5], Step: [201/625], Validation Acc: 83.14\n",
      "loss: 152.63013370335102\n",
      "Epoch: [1/5], Step: [301/625], Validation Acc: 84.26\n",
      "loss: 187.67620911449194\n",
      "Epoch: [1/5], Step: [401/625], Validation Acc: 85.32\n",
      "loss: 221.13346695154905\n",
      "Epoch: [1/5], Step: [501/625], Validation Acc: 85.76\n",
      "loss: 252.66173734515905\n",
      "Epoch: [1/5], Step: [601/625], Validation Acc: 86.56\n",
      "loss: 9.083936169743538\n",
      "Epoch: [2/5], Step: [101/625], Validation Acc: 86.78\n",
      "loss: 16.5559151340276\n",
      "Epoch: [2/5], Step: [201/625], Validation Acc: 85.6\n",
      "loss: 24.960773842409253\n",
      "Epoch: [2/5], Step: [301/625], Validation Acc: 84.58\n",
      "loss: 33.23397489450872\n",
      "Epoch: [2/5], Step: [401/625], Validation Acc: 85.94\n",
      "loss: 42.30290731973946\n",
      "Epoch: [2/5], Step: [501/625], Validation Acc: 85.46\n",
      "loss: 53.29667744413018\n",
      "Epoch: [2/5], Step: [601/625], Validation Acc: 84.04\n",
      "loss: 1.702826390042901\n",
      "Epoch: [3/5], Step: [101/625], Validation Acc: 85.76\n",
      "loss: 3.041548352688551\n",
      "Epoch: [3/5], Step: [201/625], Validation Acc: 85.74\n",
      "loss: 4.2127178674563766\n",
      "Epoch: [3/5], Step: [301/625], Validation Acc: 85.76\n",
      "loss: 5.103829899802804\n",
      "Epoch: [3/5], Step: [401/625], Validation Acc: 85.44\n",
      "loss: 5.973448480479419\n",
      "Epoch: [3/5], Step: [501/625], Validation Acc: 85.4\n",
      "loss: 6.691464048810303\n",
      "Epoch: [3/5], Step: [601/625], Validation Acc: 85.72\n",
      "loss: 0.1612110212445259\n",
      "Epoch: [4/5], Step: [101/625], Validation Acc: 85.58\n",
      "loss: 0.32156573235988617\n",
      "Epoch: [4/5], Step: [201/625], Validation Acc: 85.76\n",
      "loss: 0.6374014765024185\n",
      "Epoch: [4/5], Step: [301/625], Validation Acc: 85.48\n",
      "loss: 0.7842627801001072\n",
      "Epoch: [4/5], Step: [401/625], Validation Acc: 85.7\n",
      "loss: 0.925944060087204\n",
      "Epoch: [4/5], Step: [501/625], Validation Acc: 85.78\n",
      "loss: 1.0687931636348367\n",
      "Epoch: [4/5], Step: [601/625], Validation Acc: 85.8\n",
      "loss: 0.07564351707696915\n",
      "Epoch: [5/5], Step: [101/625], Validation Acc: 85.8\n",
      "loss: 0.15050017833709717\n",
      "Epoch: [5/5], Step: [201/625], Validation Acc: 85.78\n",
      "loss: 0.22032706812024117\n",
      "Epoch: [5/5], Step: [301/625], Validation Acc: 85.78\n",
      "loss: 0.2836219109594822\n",
      "Epoch: [5/5], Step: [401/625], Validation Acc: 85.8\n",
      "loss: 0.3474258743226528\n",
      "Epoch: [5/5], Step: [501/625], Validation Acc: 85.84\n",
      "loss: 0.4053528495132923\n",
      "Epoch: [5/5], Step: [601/625], Validation Acc: 85.8\n",
      "([86.56, 84.04, 85.72, 85.8, 85.8], [260.57044004648924, 56.84928734228015, 6.8782022735103965, 1.0974518405273557, 0.42009980604052544])\n"
     ]
    },
    {
     "data": {
      "text/plain": [
       "([86.56, 84.04, 85.72, 85.8, 85.8],\n",
       " [260.57044004648924,\n",
       "  56.84928734228015,\n",
       "  6.8782022735103965,\n",
       "  1.0974518405273557,\n",
       "  0.42009980604052544])"
      ]
     },
     "execution_count": 46,
     "metadata": {},
     "output_type": "execute_result"
    }
   ],
   "source": [
    "learning_rate = 0.01\n",
    "emb_dim = 100\n",
    "vocab_size = 60000\n",
    "model = BagOfWords(vocab_size + 2, emb_dim)\n",
    "# Criterion and Optimizer\n",
    "criterion = torch.nn.CrossEntropyLoss() \n",
    "optimizer = torch.optim.Adam(model.parameters(), lr=learning_rate)\n",
    "hpt = HyperParameterTuner(model, criterion, optimizer)\n",
    "train_data_indices, val_data_indices, test_data_indices = hpt.get_indices_for_hyperparamters(2, vocab_size)\n",
    "BATCH_SIZE = 32\n",
    "train_dataset = ImdbDataset(train_data_indices, train_y)\n",
    "train_loader = torch.utils.data.DataLoader(dataset=train_dataset, \n",
    "                                           batch_size=BATCH_SIZE,\n",
    "                                           collate_fn=imdb_collate_func,\n",
    "                                           shuffle=True)\n",
    "\n",
    "val_dataset = ImdbDataset(val_data_indices, val_y)\n",
    "val_loader = torch.utils.data.DataLoader(dataset=val_dataset, \n",
    "                                           batch_size=BATCH_SIZE,\n",
    "                                           collate_fn=imdb_collate_func,\n",
    "                                           shuffle=True)\n",
    "hpt.train_and_validate_model(5, train_loader, val_loader)\n"
   ]
  },
  {
   "cell_type": "markdown",
   "metadata": {},
   "source": [
    "### Assess Best Model Performance On The Test Dataset"
   ]
  },
  {
   "cell_type": "code",
   "execution_count": 47,
   "metadata": {},
   "outputs": [
    {
     "name": "stdout",
     "output_type": "stream",
     "text": [
      "25000\n",
      "25000\n"
     ]
    }
   ],
   "source": [
    "# test_data_tokens = pkl.load(open(\"test_data_tokens.p\", \"rb\"))\n",
    "print(len(test_data_indices))\n",
    "print(len(test_y))\n",
    "test_dataset = ImdbDataset(test_data_indices, test_y)\n",
    "test_loader = torch.utils.data.DataLoader(dataset=test_dataset, \n",
    "                                           batch_size=BATCH_SIZE,\n",
    "                                           collate_fn=imdb_collate_func,\n",
    "                                           shuffle=False)"
   ]
  },
  {
   "cell_type": "code",
   "execution_count": 53,
   "metadata": {},
   "outputs": [
    {
     "name": "stdout",
     "output_type": "stream",
     "text": [
      "After training for 5 epochs\n",
      "Val Acc 85.78\n",
      "Test Acc 83.792\n"
     ]
    }
   ],
   "source": [
    "print (\"After training for {} epochs\".format(5))\n",
    "print (\"Val Acc {}\".format(hpt.test_model2(val_loader)))\n",
    "print (\"Test Acc {}\".format(hpt.test_model2(test_loader)))"
   ]
  },
  {
   "cell_type": "code",
   "execution_count": null,
   "metadata": {
    "collapsed": true
   },
   "outputs": [],
   "source": [
    "fpr_log_ct, tpr_log_ct, threshold_log_ct = roc_curve(Y_test, preds_log_ct)\n",
    "roc_auc_log_ct = auc(fpr_log_ct, tpr_log_ct)\n",
    "\n",
    "plt.title('ROC For Test Set With Best Model')\n",
    "plt.plot(fpr_nb_tfidf, tpr_nb_tfidf, 'b', label = 'AUC for tfidf Naive Bayes = %0.4f' % roc_auc_nb_tfidf, color='orange')\n",
    "plt.legend(loc = 'lower right')\n",
    "plt.plot([0, 1], [0, 1],'r--')\n",
    "plt.xlim([0, 1])\n",
    "plt.ylim([0, 1])\n",
    "plt.ylabel('True Positive Rate')\n",
    "plt.xlabel('False Positive Rate')\n",
    "plt.show()"
   ]
  }
 ],
 "metadata": {
  "kernelspec": {
   "display_name": "Python 3",
   "language": "python",
   "name": "python3"
  },
  "language_info": {
   "codemirror_mode": {
    "name": "ipython",
    "version": 3
   },
   "file_extension": ".py",
   "mimetype": "text/x-python",
   "name": "python",
   "nbconvert_exporter": "python",
   "pygments_lexer": "ipython3",
   "version": "3.6.2"
  }
 },
 "nbformat": 4,
 "nbformat_minor": 2
}
